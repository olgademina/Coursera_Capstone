{
 "cells": [
  {
   "cell_type": "markdown",
   "metadata": {
    "collapsed": true
   },
   "source": [
    "This notebook is for exploring and clustering the neighborhoods in Toronto."
   ]
  },
  {
   "cell_type": "markdown",
   "metadata": {},
   "source": [
    "Importing the libraries:"
   ]
  },
  {
   "cell_type": "code",
   "execution_count": 5,
   "metadata": {},
   "outputs": [],
   "source": [
    "from bs4 import BeautifulSoup\n",
    "import requests\n",
    "import pandas as pd"
   ]
  },
  {
   "cell_type": "markdown",
   "metadata": {},
   "source": [
    "Parsing Wikipedia page and extracting table from it:"
   ]
  },
  {
   "cell_type": "code",
   "execution_count": 6,
   "metadata": {},
   "outputs": [],
   "source": [
    "website_url = requests.get('https://en.wikipedia.org/wiki/List_of_postal_codes_of_Canada:_M').text\n",
    "soup=BeautifulSoup(website_url, 'lxml')\n",
    "#print(soup.prettify())\n",
    "mytable = soup.find('table',{'class':'wikitable sortable'})"
   ]
  },
  {
   "cell_type": "markdown",
   "metadata": {},
   "source": [
    "Find all _< tr >_ tags in the table:"
   ]
  },
  {
   "cell_type": "code",
   "execution_count": 7,
   "metadata": {},
   "outputs": [],
   "source": [
    "trs=mytable.find_all('tr')"
   ]
  },
  {
   "cell_type": "markdown",
   "metadata": {},
   "source": [
    "Create a list of the values inside the _< tr >_ tags:"
   ]
  },
  {
   "cell_type": "code",
   "execution_count": 8,
   "metadata": {},
   "outputs": [
    {
     "data": {
      "text/plain": [
       "['\\nPostcode\\nBorough\\nNeighbourhood',\n",
       " '\\nM1A\\nNot assigned\\nNot assigned',\n",
       " '\\nM2A\\nNot assigned\\nNot assigned',\n",
       " '\\nM3A\\nNorth York\\nParkwoods',\n",
       " '\\nM4A\\nNorth York\\nVictoria Village',\n",
       " '\\nM5A\\nDowntown Toronto\\nHarbourfront',\n",
       " '\\nM5A\\nDowntown Toronto\\nRegent Park',\n",
       " '\\nM6A\\nNorth York\\nLawrence Heights',\n",
       " '\\nM6A\\nNorth York\\nLawrence Manor',\n",
       " \"\\nM7A\\nQueen's Park\\nNot assigned\",\n",
       " '\\nM8A\\nNot assigned\\nNot assigned',\n",
       " '\\nM9A\\nEtobicoke\\nIslington Avenue',\n",
       " '\\nM1B\\nScarborough\\nRouge',\n",
       " '\\nM1B\\nScarborough\\nMalvern',\n",
       " '\\nM2B\\nNot assigned\\nNot assigned',\n",
       " '\\nM3B\\nNorth York\\nDon Mills North',\n",
       " '\\nM4B\\nEast York\\nWoodbine Gardens',\n",
       " '\\nM4B\\nEast York\\nParkview Hill',\n",
       " '\\nM5B\\nDowntown Toronto\\nRyerson',\n",
       " '\\nM5B\\nDowntown Toronto\\nGarden District',\n",
       " '\\nM6B\\nNorth York\\nGlencairn',\n",
       " '\\nM7B\\nNot assigned\\nNot assigned',\n",
       " '\\nM8B\\nNot assigned\\nNot assigned',\n",
       " '\\nM9B\\nEtobicoke\\nCloverdale',\n",
       " '\\nM9B\\nEtobicoke\\nIslington',\n",
       " '\\nM9B\\nEtobicoke\\nMartin Grove',\n",
       " '\\nM9B\\nEtobicoke\\nPrincess Gardens',\n",
       " '\\nM9B\\nEtobicoke\\nWest Deane Park',\n",
       " '\\nM1C\\nScarborough\\nHighland Creek',\n",
       " '\\nM1C\\nScarborough\\nRouge Hill',\n",
       " '\\nM1C\\nScarborough\\nPort Union',\n",
       " '\\nM2C\\nNot assigned\\nNot assigned',\n",
       " '\\nM3C\\nNorth York\\nFlemingdon Park',\n",
       " '\\nM3C\\nNorth York\\nDon Mills South',\n",
       " '\\nM4C\\nEast York\\nWoodbine Heights',\n",
       " '\\nM5C\\nDowntown Toronto\\nSt. James Town',\n",
       " '\\nM6C\\nYork\\nHumewood-Cedarvale',\n",
       " '\\nM7C\\nNot assigned\\nNot assigned',\n",
       " '\\nM8C\\nNot assigned\\nNot assigned',\n",
       " '\\nM9C\\nEtobicoke\\nBloordale Gardens',\n",
       " '\\nM9C\\nEtobicoke\\nEringate',\n",
       " '\\nM9C\\nEtobicoke\\nMarkland Wood',\n",
       " '\\nM9C\\nEtobicoke\\nOld Burnhamthorpe',\n",
       " '\\nM1E\\nScarborough\\nGuildwood',\n",
       " '\\nM1E\\nScarborough\\nMorningside',\n",
       " '\\nM1E\\nScarborough\\nWest Hill',\n",
       " '\\nM2E\\nNot assigned\\nNot assigned',\n",
       " '\\nM3E\\nNot assigned\\nNot assigned',\n",
       " '\\nM4E\\nEast Toronto\\nThe Beaches',\n",
       " '\\nM5E\\nDowntown Toronto\\nBerczy Park',\n",
       " '\\nM6E\\nYork\\nCaledonia-Fairbanks',\n",
       " '\\nM7E\\nNot assigned\\nNot assigned',\n",
       " '\\nM8E\\nNot assigned\\nNot assigned',\n",
       " '\\nM9E\\nNot assigned\\nNot assigned',\n",
       " '\\nM1G\\nScarborough\\nWoburn',\n",
       " '\\nM2G\\nNot assigned\\nNot assigned',\n",
       " '\\nM3G\\nNot assigned\\nNot assigned',\n",
       " '\\nM4G\\nEast York\\nLeaside',\n",
       " '\\nM5G\\nDowntown Toronto\\nCentral Bay Street',\n",
       " '\\nM6G\\nDowntown Toronto\\nChristie',\n",
       " '\\nM7G\\nNot assigned\\nNot assigned',\n",
       " '\\nM8G\\nNot assigned\\nNot assigned',\n",
       " '\\nM9G\\nNot assigned\\nNot assigned',\n",
       " '\\nM1H\\nScarborough\\nCedarbrae',\n",
       " '\\nM2H\\nNorth York\\nHillcrest Village',\n",
       " '\\nM3H\\nNorth York\\nBathurst Manor',\n",
       " '\\nM3H\\nNorth York\\nDownsview North',\n",
       " '\\nM3H\\nNorth York\\nWilson Heights',\n",
       " '\\nM4H\\nEast York\\nThorncliffe Park',\n",
       " '\\nM5H\\nDowntown Toronto\\nAdelaide',\n",
       " '\\nM5H\\nDowntown Toronto\\nKing',\n",
       " '\\nM5H\\nDowntown Toronto\\nRichmond',\n",
       " '\\nM6H\\nWest Toronto\\nDovercourt Village',\n",
       " '\\nM6H\\nWest Toronto\\nDufferin',\n",
       " '\\nM7H\\nNot assigned\\nNot assigned',\n",
       " '\\nM8H\\nNot assigned\\nNot assigned',\n",
       " '\\nM9H\\nNot assigned\\nNot assigned',\n",
       " '\\nM1J\\nScarborough\\nScarborough Village',\n",
       " '\\nM2J\\nNorth York\\nFairview',\n",
       " '\\nM2J\\nNorth York\\nHenry Farm',\n",
       " '\\nM2J\\nNorth York\\nOriole',\n",
       " '\\nM3J\\nNorth York\\nNorthwood Park',\n",
       " '\\nM3J\\nNorth York\\nYork University',\n",
       " '\\nM4J\\nEast York\\nEast Toronto',\n",
       " '\\nM5J\\nDowntown Toronto\\nHarbourfront East',\n",
       " '\\nM5J\\nDowntown Toronto\\nToronto Islands',\n",
       " '\\nM5J\\nDowntown Toronto\\nUnion Station',\n",
       " '\\nM6J\\nWest Toronto\\nLittle Portugal',\n",
       " '\\nM6J\\nWest Toronto\\nTrinity',\n",
       " '\\nM7J\\nNot assigned\\nNot assigned',\n",
       " '\\nM8J\\nNot assigned\\nNot assigned',\n",
       " '\\nM9J\\nNot assigned\\nNot assigned',\n",
       " '\\nM1K\\nScarborough\\nEast Birchmount Park',\n",
       " '\\nM1K\\nScarborough\\nIonview',\n",
       " '\\nM1K\\nScarborough\\nKennedy Park',\n",
       " '\\nM2K\\nNorth York\\nBayview Village',\n",
       " '\\nM3K\\nNorth York\\nCFB Toronto',\n",
       " '\\nM3K\\nNorth York\\nDownsview East',\n",
       " '\\nM4K\\nEast Toronto\\nThe Danforth West',\n",
       " '\\nM4K\\nEast Toronto\\nRiverdale',\n",
       " '\\nM5K\\nDowntown Toronto\\nDesign Exchange',\n",
       " '\\nM5K\\nDowntown Toronto\\nToronto Dominion Centre',\n",
       " '\\nM6K\\nWest Toronto\\nBrockton',\n",
       " '\\nM6K\\nWest Toronto\\nExhibition Place',\n",
       " '\\nM6K\\nWest Toronto\\nParkdale Village',\n",
       " '\\nM7K\\nNot assigned\\nNot assigned',\n",
       " '\\nM8K\\nNot assigned\\nNot assigned',\n",
       " '\\nM9K\\nNot assigned\\nNot assigned',\n",
       " '\\nM1L\\nScarborough\\nClairlea',\n",
       " '\\nM1L\\nScarborough\\nGolden Mile',\n",
       " '\\nM1L\\nScarborough\\nOakridge',\n",
       " '\\nM2L\\nNorth York\\nSilver Hills',\n",
       " '\\nM2L\\nNorth York\\nYork Mills',\n",
       " '\\nM3L\\nNorth York\\nDownsview West',\n",
       " '\\nM4L\\nEast Toronto\\nThe Beaches West',\n",
       " '\\nM4L\\nEast Toronto\\nIndia Bazaar',\n",
       " '\\nM5L\\nDowntown Toronto\\nCommerce Court',\n",
       " '\\nM5L\\nDowntown Toronto\\nVictoria Hotel',\n",
       " '\\nM6L\\nNorth York\\nDownsview',\n",
       " '\\nM6L\\nNorth York\\nNorth Park',\n",
       " '\\nM6L\\nNorth York\\nUpwood Park',\n",
       " '\\nM7L\\nNot assigned\\nNot assigned',\n",
       " '\\nM8L\\nNot assigned\\nNot assigned',\n",
       " '\\nM9L\\nNorth York\\nHumber Summit',\n",
       " '\\nM1M\\nScarborough\\nCliffcrest',\n",
       " '\\nM1M\\nScarborough\\nCliffside',\n",
       " '\\nM1M\\nScarborough\\nScarborough Village West',\n",
       " '\\nM2M\\nNorth York\\nNewtonbrook',\n",
       " '\\nM2M\\nNorth York\\nWillowdale',\n",
       " '\\nM3M\\nNorth York\\nDownsview Central',\n",
       " '\\nM4M\\nEast Toronto\\nStudio District',\n",
       " '\\nM5M\\nNorth York\\nBedford Park',\n",
       " '\\nM5M\\nNorth York\\nLawrence Manor East',\n",
       " '\\nM6M\\nYork\\nDel Ray',\n",
       " '\\nM6M\\nYork\\nKeelesdale',\n",
       " '\\nM6M\\nYork\\nMount Dennis',\n",
       " '\\nM6M\\nYork\\nSilverthorn',\n",
       " '\\nM7M\\nNot assigned\\nNot assigned',\n",
       " '\\nM8M\\nNot assigned\\nNot assigned',\n",
       " '\\nM9M\\nNorth York\\nEmery',\n",
       " '\\nM9M\\nNorth York\\nHumberlea',\n",
       " '\\nM1N\\nScarborough\\nBirch Cliff',\n",
       " '\\nM1N\\nScarborough\\nCliffside West',\n",
       " '\\nM2N\\nNorth York\\nWillowdale South',\n",
       " '\\nM3N\\nNorth York\\nDownsview Northwest',\n",
       " '\\nM4N\\nCentral Toronto\\nLawrence Park',\n",
       " '\\nM5N\\nCentral Toronto\\nRoselawn',\n",
       " '\\nM6N\\nYork\\nThe Junction North',\n",
       " '\\nM6N\\nYork\\nRunnymede',\n",
       " '\\nM7N\\nNot assigned\\nNot assigned',\n",
       " '\\nM8N\\nNot assigned\\nNot assigned',\n",
       " '\\nM9N\\nYork\\nWeston',\n",
       " '\\nM1P\\nScarborough\\nDorset Park',\n",
       " '\\nM1P\\nScarborough\\nScarborough Town Centre',\n",
       " '\\nM1P\\nScarborough\\nWexford Heights',\n",
       " '\\nM2P\\nNorth York\\nYork Mills West',\n",
       " '\\nM3P\\nNot assigned\\nNot assigned',\n",
       " '\\nM4P\\nCentral Toronto\\nDavisville North',\n",
       " '\\nM5P\\nCentral Toronto\\nForest Hill North',\n",
       " '\\nM5P\\nCentral Toronto\\nForest Hill West',\n",
       " '\\nM6P\\nWest Toronto\\nHigh Park',\n",
       " '\\nM6P\\nWest Toronto\\nThe Junction South',\n",
       " '\\nM7P\\nNot assigned\\nNot assigned',\n",
       " '\\nM8P\\nNot assigned\\nNot assigned',\n",
       " '\\nM9P\\nEtobicoke\\nWestmount',\n",
       " '\\nM1R\\nScarborough\\nMaryvale',\n",
       " '\\nM1R\\nScarborough\\nWexford',\n",
       " '\\nM2R\\nNorth York\\nWillowdale West',\n",
       " '\\nM3R\\nNot assigned\\nNot assigned',\n",
       " '\\nM4R\\nCentral Toronto\\nNorth Toronto West',\n",
       " '\\nM5R\\nCentral Toronto\\nThe Annex',\n",
       " '\\nM5R\\nCentral Toronto\\nNorth Midtown',\n",
       " '\\nM5R\\nCentral Toronto\\nYorkville',\n",
       " '\\nM6R\\nWest Toronto\\nParkdale',\n",
       " '\\nM6R\\nWest Toronto\\nRoncesvalles',\n",
       " '\\nM7R\\nMississauga\\nCanada Post Gateway Processing Centre',\n",
       " '\\nM8R\\nNot assigned\\nNot assigned',\n",
       " '\\nM9R\\nEtobicoke\\nKingsview Village',\n",
       " '\\nM9R\\nEtobicoke\\nMartin Grove Gardens',\n",
       " '\\nM9R\\nEtobicoke\\nRichview Gardens',\n",
       " '\\nM9R\\nEtobicoke\\nSt. Phillips',\n",
       " '\\nM1S\\nScarborough\\nAgincourt',\n",
       " '\\nM2S\\nNot assigned\\nNot assigned',\n",
       " '\\nM3S\\nNot assigned\\nNot assigned',\n",
       " '\\nM4S\\nCentral Toronto\\nDavisville',\n",
       " '\\nM5S\\nDowntown Toronto\\nHarbord',\n",
       " '\\nM5S\\nDowntown Toronto\\nUniversity of Toronto',\n",
       " '\\nM6S\\nWest Toronto\\nRunnymede',\n",
       " '\\nM6S\\nWest Toronto\\nSwansea',\n",
       " '\\nM7S\\nNot assigned\\nNot assigned',\n",
       " '\\nM8S\\nNot assigned\\nNot assigned',\n",
       " '\\nM9S\\nNot assigned\\nNot assigned',\n",
       " '\\nM1T\\nScarborough\\nClarks Corners',\n",
       " '\\nM1T\\nScarborough\\nSullivan',\n",
       " \"\\nM1T\\nScarborough\\nTam O'Shanter\",\n",
       " '\\nM2T\\nNot assigned\\nNot assigned',\n",
       " '\\nM3T\\nNot assigned\\nNot assigned',\n",
       " '\\nM4T\\nCentral Toronto\\nMoore Park',\n",
       " '\\nM4T\\nCentral Toronto\\nSummerhill East',\n",
       " '\\nM5T\\nDowntown Toronto\\nChinatown',\n",
       " '\\nM5T\\nDowntown Toronto\\nGrange Park',\n",
       " '\\nM5T\\nDowntown Toronto\\nKensington Market',\n",
       " '\\nM6T\\nNot assigned\\nNot assigned',\n",
       " '\\nM7T\\nNot assigned\\nNot assigned',\n",
       " '\\nM8T\\nNot assigned\\nNot assigned',\n",
       " '\\nM9T\\nNot assigned\\nNot assigned',\n",
       " '\\nM1V\\nScarborough\\nAgincourt North',\n",
       " \"\\nM1V\\nScarborough\\nL'Amoreaux East\",\n",
       " '\\nM1V\\nScarborough\\nMilliken',\n",
       " '\\nM1V\\nScarborough\\nSteeles East',\n",
       " '\\nM2V\\nNot assigned\\nNot assigned',\n",
       " '\\nM3V\\nNot assigned\\nNot assigned',\n",
       " '\\nM4V\\nCentral Toronto\\nDeer Park',\n",
       " '\\nM4V\\nCentral Toronto\\nForest Hill SE',\n",
       " '\\nM4V\\nCentral Toronto\\nRathnelly',\n",
       " '\\nM4V\\nCentral Toronto\\nSouth Hill',\n",
       " '\\nM4V\\nCentral Toronto\\nSummerhill West',\n",
       " '\\nM5V\\nDowntown Toronto\\nCN Tower',\n",
       " '\\nM5V\\nDowntown Toronto\\nBathurst Quay',\n",
       " '\\nM5V\\nDowntown Toronto\\nIsland airport',\n",
       " '\\nM5V\\nDowntown Toronto\\nHarbourfront West',\n",
       " '\\nM5V\\nDowntown Toronto\\nKing and Spadina',\n",
       " '\\nM5V\\nDowntown Toronto\\nRailway Lands',\n",
       " '\\nM5V\\nDowntown Toronto\\nSouth Niagara',\n",
       " '\\nM6V\\nNot assigned\\nNot assigned',\n",
       " '\\nM7V\\nNot assigned\\nNot assigned',\n",
       " '\\nM8V\\nEtobicoke\\nHumber Bay Shores',\n",
       " '\\nM8V\\nEtobicoke\\nMimico South',\n",
       " '\\nM8V\\nEtobicoke\\nNew Toronto',\n",
       " '\\nM9V\\nEtobicoke\\nAlbion Gardens',\n",
       " '\\nM9V\\nEtobicoke\\nBeaumond Heights',\n",
       " '\\nM9V\\nEtobicoke\\nHumbergate',\n",
       " '\\nM9V\\nEtobicoke\\nJamestown',\n",
       " '\\nM9V\\nEtobicoke\\nMount Olive',\n",
       " '\\nM9V\\nEtobicoke\\nSilverstone',\n",
       " '\\nM9V\\nEtobicoke\\nSouth Steeles',\n",
       " '\\nM9V\\nEtobicoke\\nThistletown',\n",
       " \"\\nM1W\\nScarborough\\nL'Amoreaux West\",\n",
       " '\\nM2W\\nNot assigned\\nNot assigned',\n",
       " '\\nM3W\\nNot assigned\\nNot assigned',\n",
       " '\\nM4W\\nDowntown Toronto\\nRosedale',\n",
       " '\\nM5W\\nDowntown Toronto\\nStn A PO Boxes 25 The Esplanade',\n",
       " '\\nM6W\\nNot assigned\\nNot assigned',\n",
       " '\\nM7W\\nNot assigned\\nNot assigned',\n",
       " '\\nM8W\\nEtobicoke\\nAlderwood',\n",
       " '\\nM8W\\nEtobicoke\\nLong Branch',\n",
       " '\\nM9W\\nEtobicoke\\nNorthwest',\n",
       " '\\nM1X\\nScarborough\\nUpper Rouge',\n",
       " '\\nM2X\\nNot assigned\\nNot assigned',\n",
       " '\\nM3X\\nNot assigned\\nNot assigned',\n",
       " '\\nM4X\\nDowntown Toronto\\nCabbagetown',\n",
       " '\\nM4X\\nDowntown Toronto\\nSt. James Town',\n",
       " '\\nM5X\\nDowntown Toronto\\nFirst Canadian Place',\n",
       " '\\nM5X\\nDowntown Toronto\\nUnderground city',\n",
       " '\\nM6X\\nNot assigned\\nNot assigned',\n",
       " '\\nM7X\\nNot assigned\\nNot assigned',\n",
       " '\\nM8X\\nEtobicoke\\nThe Kingsway',\n",
       " '\\nM8X\\nEtobicoke\\nMontgomery Road',\n",
       " '\\nM8X\\nEtobicoke\\nOld Mill North',\n",
       " '\\nM9X\\nNot assigned\\nNot assigned',\n",
       " '\\nM1Y\\nNot assigned\\nNot assigned',\n",
       " '\\nM2Y\\nNot assigned\\nNot assigned',\n",
       " '\\nM3Y\\nNot assigned\\nNot assigned',\n",
       " '\\nM4Y\\nDowntown Toronto\\nChurch and Wellesley',\n",
       " '\\nM5Y\\nNot assigned\\nNot assigned',\n",
       " '\\nM6Y\\nNot assigned\\nNot assigned',\n",
       " '\\nM7Y\\nEast Toronto\\nBusiness Reply Mail Processing Centre 969 Eastern',\n",
       " '\\nM8Y\\nEtobicoke\\nHumber Bay',\n",
       " \"\\nM8Y\\nEtobicoke\\nKing's Mill Park\",\n",
       " '\\nM8Y\\nEtobicoke\\nKingsway Park South East',\n",
       " '\\nM8Y\\nEtobicoke\\nMimico NE',\n",
       " '\\nM8Y\\nEtobicoke\\nOld Mill South',\n",
       " '\\nM8Y\\nEtobicoke\\nThe Queensway East',\n",
       " '\\nM8Y\\nEtobicoke\\nRoyal York South East',\n",
       " '\\nM8Y\\nEtobicoke\\nSunnylea',\n",
       " '\\nM9Y\\nNot assigned\\nNot assigned',\n",
       " '\\nM1Z\\nNot assigned\\nNot assigned',\n",
       " '\\nM2Z\\nNot assigned\\nNot assigned',\n",
       " '\\nM3Z\\nNot assigned\\nNot assigned',\n",
       " '\\nM4Z\\nNot assigned\\nNot assigned',\n",
       " '\\nM5Z\\nNot assigned\\nNot assigned',\n",
       " '\\nM6Z\\nNot assigned\\nNot assigned',\n",
       " '\\nM7Z\\nNot assigned\\nNot assigned',\n",
       " '\\nM8Z\\nEtobicoke\\nKingsway Park South West',\n",
       " '\\nM8Z\\nEtobicoke\\nMimico NW',\n",
       " '\\nM8Z\\nEtobicoke\\nThe Queensway West',\n",
       " '\\nM8Z\\nEtobicoke\\nRoyal York South West',\n",
       " '\\nM8Z\\nEtobicoke\\nSouth of Bloor',\n",
       " '\\nM9Z\\nNot assigned\\nNot assigned']"
      ]
     },
     "execution_count": 8,
     "metadata": {},
     "output_type": "execute_result"
    }
   ],
   "source": [
    "values=[]\n",
    "for tr in trs:\n",
    "    values.append(tr.text.rstrip())\n",
    "values"
   ]
  },
  {
   "cell_type": "markdown",
   "metadata": {},
   "source": [
    "Delete the rows containing _Not assigned_ value in the 2nd column and for those where _Not assigned_ is only in the 3rd column copy the value from the 2nd column:"
   ]
  },
  {
   "cell_type": "code",
   "execution_count": 9,
   "metadata": {},
   "outputs": [
    {
     "name": "stdout",
     "output_type": "stream",
     "text": [
      "[['M3A', 'North York', 'Parkwoods'], ['M4A', 'North York', 'Victoria Village'], ['M5A', 'Downtown Toronto', 'Harbourfront'], ['M5A', 'Downtown Toronto', 'Regent Park'], ['M6A', 'North York', 'Lawrence Heights'], ['M6A', 'North York', 'Lawrence Manor'], ['M7A', \"Queen's Park\", \"Queen's Park\"], ['M9A', 'Etobicoke', 'Islington Avenue'], ['M1B', 'Scarborough', 'Rouge'], ['M1B', 'Scarborough', 'Malvern'], ['M3B', 'North York', 'Don Mills North'], ['M4B', 'East York', 'Woodbine Gardens'], ['M4B', 'East York', 'Parkview Hill'], ['M5B', 'Downtown Toronto', 'Ryerson'], ['M5B', 'Downtown Toronto', 'Garden District'], ['M6B', 'North York', 'Glencairn'], ['M9B', 'Etobicoke', 'Cloverdale'], ['M9B', 'Etobicoke', 'Islington'], ['M9B', 'Etobicoke', 'Martin Grove'], ['M9B', 'Etobicoke', 'Princess Gardens'], ['M9B', 'Etobicoke', 'West Deane Park'], ['M1C', 'Scarborough', 'Highland Creek'], ['M1C', 'Scarborough', 'Rouge Hill'], ['M1C', 'Scarborough', 'Port Union'], ['M3C', 'North York', 'Flemingdon Park'], ['M3C', 'North York', 'Don Mills South'], ['M4C', 'East York', 'Woodbine Heights'], ['M5C', 'Downtown Toronto', 'St. James Town'], ['M6C', 'York', 'Humewood-Cedarvale'], ['M9C', 'Etobicoke', 'Bloordale Gardens'], ['M9C', 'Etobicoke', 'Eringate'], ['M9C', 'Etobicoke', 'Markland Wood'], ['M9C', 'Etobicoke', 'Old Burnhamthorpe'], ['M1E', 'Scarborough', 'Guildwood'], ['M1E', 'Scarborough', 'Morningside'], ['M1E', 'Scarborough', 'West Hill'], ['M4E', 'East Toronto', 'The Beaches'], ['M5E', 'Downtown Toronto', 'Berczy Park'], ['M6E', 'York', 'Caledonia-Fairbanks'], ['M1G', 'Scarborough', 'Woburn'], ['M4G', 'East York', 'Leaside'], ['M5G', 'Downtown Toronto', 'Central Bay Street'], ['M6G', 'Downtown Toronto', 'Christie'], ['M1H', 'Scarborough', 'Cedarbrae'], ['M2H', 'North York', 'Hillcrest Village'], ['M3H', 'North York', 'Bathurst Manor'], ['M3H', 'North York', 'Downsview North'], ['M3H', 'North York', 'Wilson Heights'], ['M4H', 'East York', 'Thorncliffe Park'], ['M5H', 'Downtown Toronto', 'Adelaide'], ['M5H', 'Downtown Toronto', 'King'], ['M5H', 'Downtown Toronto', 'Richmond'], ['M6H', 'West Toronto', 'Dovercourt Village'], ['M6H', 'West Toronto', 'Dufferin'], ['M1J', 'Scarborough', 'Scarborough Village'], ['M2J', 'North York', 'Fairview'], ['M2J', 'North York', 'Henry Farm'], ['M2J', 'North York', 'Oriole'], ['M3J', 'North York', 'Northwood Park'], ['M3J', 'North York', 'York University'], ['M4J', 'East York', 'East Toronto'], ['M5J', 'Downtown Toronto', 'Harbourfront East'], ['M5J', 'Downtown Toronto', 'Toronto Islands'], ['M5J', 'Downtown Toronto', 'Union Station'], ['M6J', 'West Toronto', 'Little Portugal'], ['M6J', 'West Toronto', 'Trinity'], ['M1K', 'Scarborough', 'East Birchmount Park'], ['M1K', 'Scarborough', 'Ionview'], ['M1K', 'Scarborough', 'Kennedy Park'], ['M2K', 'North York', 'Bayview Village'], ['M3K', 'North York', 'CFB Toronto'], ['M3K', 'North York', 'Downsview East'], ['M4K', 'East Toronto', 'The Danforth West'], ['M4K', 'East Toronto', 'Riverdale'], ['M5K', 'Downtown Toronto', 'Design Exchange'], ['M5K', 'Downtown Toronto', 'Toronto Dominion Centre'], ['M6K', 'West Toronto', 'Brockton'], ['M6K', 'West Toronto', 'Exhibition Place'], ['M6K', 'West Toronto', 'Parkdale Village'], ['M1L', 'Scarborough', 'Clairlea'], ['M1L', 'Scarborough', 'Golden Mile'], ['M1L', 'Scarborough', 'Oakridge'], ['M2L', 'North York', 'Silver Hills'], ['M2L', 'North York', 'York Mills'], ['M3L', 'North York', 'Downsview West'], ['M4L', 'East Toronto', 'The Beaches West'], ['M4L', 'East Toronto', 'India Bazaar'], ['M5L', 'Downtown Toronto', 'Commerce Court'], ['M5L', 'Downtown Toronto', 'Victoria Hotel'], ['M6L', 'North York', 'Downsview'], ['M6L', 'North York', 'North Park'], ['M6L', 'North York', 'Upwood Park'], ['M9L', 'North York', 'Humber Summit'], ['M1M', 'Scarborough', 'Cliffcrest'], ['M1M', 'Scarborough', 'Cliffside'], ['M1M', 'Scarborough', 'Scarborough Village West'], ['M2M', 'North York', 'Newtonbrook'], ['M2M', 'North York', 'Willowdale'], ['M3M', 'North York', 'Downsview Central'], ['M4M', 'East Toronto', 'Studio District'], ['M5M', 'North York', 'Bedford Park'], ['M5M', 'North York', 'Lawrence Manor East'], ['M6M', 'York', 'Del Ray'], ['M6M', 'York', 'Keelesdale'], ['M6M', 'York', 'Mount Dennis'], ['M6M', 'York', 'Silverthorn'], ['M9M', 'North York', 'Emery'], ['M9M', 'North York', 'Humberlea'], ['M1N', 'Scarborough', 'Birch Cliff'], ['M1N', 'Scarborough', 'Cliffside West'], ['M2N', 'North York', 'Willowdale South'], ['M3N', 'North York', 'Downsview Northwest'], ['M4N', 'Central Toronto', 'Lawrence Park'], ['M5N', 'Central Toronto', 'Roselawn'], ['M6N', 'York', 'The Junction North'], ['M6N', 'York', 'Runnymede'], ['M9N', 'York', 'Weston'], ['M1P', 'Scarborough', 'Dorset Park'], ['M1P', 'Scarborough', 'Scarborough Town Centre'], ['M1P', 'Scarborough', 'Wexford Heights'], ['M2P', 'North York', 'York Mills West'], ['M4P', 'Central Toronto', 'Davisville North'], ['M5P', 'Central Toronto', 'Forest Hill North'], ['M5P', 'Central Toronto', 'Forest Hill West'], ['M6P', 'West Toronto', 'High Park'], ['M6P', 'West Toronto', 'The Junction South'], ['M9P', 'Etobicoke', 'Westmount'], ['M1R', 'Scarborough', 'Maryvale'], ['M1R', 'Scarborough', 'Wexford'], ['M2R', 'North York', 'Willowdale West'], ['M4R', 'Central Toronto', 'North Toronto West'], ['M5R', 'Central Toronto', 'The Annex'], ['M5R', 'Central Toronto', 'North Midtown'], ['M5R', 'Central Toronto', 'Yorkville'], ['M6R', 'West Toronto', 'Parkdale'], ['M6R', 'West Toronto', 'Roncesvalles'], ['M7R', 'Mississauga', 'Canada Post Gateway Processing Centre'], ['M9R', 'Etobicoke', 'Kingsview Village'], ['M9R', 'Etobicoke', 'Martin Grove Gardens'], ['M9R', 'Etobicoke', 'Richview Gardens'], ['M9R', 'Etobicoke', 'St. Phillips'], ['M1S', 'Scarborough', 'Agincourt'], ['M4S', 'Central Toronto', 'Davisville'], ['M5S', 'Downtown Toronto', 'Harbord'], ['M5S', 'Downtown Toronto', 'University of Toronto'], ['M6S', 'West Toronto', 'Runnymede'], ['M6S', 'West Toronto', 'Swansea'], ['M1T', 'Scarborough', 'Clarks Corners'], ['M1T', 'Scarborough', 'Sullivan'], ['M1T', 'Scarborough', \"Tam O'Shanter\"], ['M4T', 'Central Toronto', 'Moore Park'], ['M4T', 'Central Toronto', 'Summerhill East'], ['M5T', 'Downtown Toronto', 'Chinatown'], ['M5T', 'Downtown Toronto', 'Grange Park'], ['M5T', 'Downtown Toronto', 'Kensington Market'], ['M1V', 'Scarborough', 'Agincourt North'], ['M1V', 'Scarborough', \"L'Amoreaux East\"], ['M1V', 'Scarborough', 'Milliken'], ['M1V', 'Scarborough', 'Steeles East'], ['M4V', 'Central Toronto', 'Deer Park'], ['M4V', 'Central Toronto', 'Forest Hill SE'], ['M4V', 'Central Toronto', 'Rathnelly'], ['M4V', 'Central Toronto', 'South Hill'], ['M4V', 'Central Toronto', 'Summerhill West'], ['M5V', 'Downtown Toronto', 'CN Tower'], ['M5V', 'Downtown Toronto', 'Bathurst Quay'], ['M5V', 'Downtown Toronto', 'Island airport'], ['M5V', 'Downtown Toronto', 'Harbourfront West'], ['M5V', 'Downtown Toronto', 'King and Spadina'], ['M5V', 'Downtown Toronto', 'Railway Lands'], ['M5V', 'Downtown Toronto', 'South Niagara'], ['M8V', 'Etobicoke', 'Humber Bay Shores'], ['M8V', 'Etobicoke', 'Mimico South'], ['M8V', 'Etobicoke', 'New Toronto'], ['M9V', 'Etobicoke', 'Albion Gardens'], ['M9V', 'Etobicoke', 'Beaumond Heights'], ['M9V', 'Etobicoke', 'Humbergate'], ['M9V', 'Etobicoke', 'Jamestown'], ['M9V', 'Etobicoke', 'Mount Olive'], ['M9V', 'Etobicoke', 'Silverstone'], ['M9V', 'Etobicoke', 'South Steeles'], ['M9V', 'Etobicoke', 'Thistletown'], ['M1W', 'Scarborough', \"L'Amoreaux West\"], ['M4W', 'Downtown Toronto', 'Rosedale'], ['M5W', 'Downtown Toronto', 'Stn A PO Boxes 25 The Esplanade'], ['M8W', 'Etobicoke', 'Alderwood'], ['M8W', 'Etobicoke', 'Long Branch'], ['M9W', 'Etobicoke', 'Northwest'], ['M1X', 'Scarborough', 'Upper Rouge'], ['M4X', 'Downtown Toronto', 'Cabbagetown'], ['M4X', 'Downtown Toronto', 'St. James Town'], ['M5X', 'Downtown Toronto', 'First Canadian Place'], ['M5X', 'Downtown Toronto', 'Underground city'], ['M8X', 'Etobicoke', 'The Kingsway'], ['M8X', 'Etobicoke', 'Montgomery Road'], ['M8X', 'Etobicoke', 'Old Mill North'], ['M4Y', 'Downtown Toronto', 'Church and Wellesley'], ['M7Y', 'East Toronto', 'Business Reply Mail Processing Centre 969 Eastern'], ['M8Y', 'Etobicoke', 'Humber Bay'], ['M8Y', 'Etobicoke', \"King's Mill Park\"], ['M8Y', 'Etobicoke', 'Kingsway Park South East'], ['M8Y', 'Etobicoke', 'Mimico NE'], ['M8Y', 'Etobicoke', 'Old Mill South'], ['M8Y', 'Etobicoke', 'The Queensway East'], ['M8Y', 'Etobicoke', 'Royal York South East'], ['M8Y', 'Etobicoke', 'Sunnylea'], ['M8Z', 'Etobicoke', 'Kingsway Park South West'], ['M8Z', 'Etobicoke', 'Mimico NW'], ['M8Z', 'Etobicoke', 'The Queensway West'], ['M8Z', 'Etobicoke', 'Royal York South West'], ['M8Z', 'Etobicoke', 'South of Bloor']]\n"
     ]
    }
   ],
   "source": [
    "data=[]\n",
    "for value in values:\n",
    "    value=value.split('\\n')\n",
    "    value.pop(0)\n",
    "    if ('Not assigned' in value):\n",
    "        if value.index('Not assigned')==2:\n",
    "            value[2]=value[1]\n",
    "            data.append(value)\n",
    "        else:\n",
    "            continue\n",
    "    else:\n",
    "        data.append(value)\n",
    "        \n",
    "headers=data.pop(0)\n",
    "print(data)"
   ]
  },
  {
   "cell_type": "markdown",
   "metadata": {},
   "source": [
    "Merge the rows with the same value in the 1st column. (More than one neighborhood can exist in one postal code area. These rows are combined into one row with the neighborhoods separated with a comma.)\n"
   ]
  },
  {
   "cell_type": "code",
   "execution_count": 10,
   "metadata": {},
   "outputs": [
    {
     "name": "stdout",
     "output_type": "stream",
     "text": [
      "[['M3A', 'North York', 'Parkwoods'], ['M4A', 'North York', 'Victoria Village'], ['M5A', 'Downtown Toronto', 'Harbourfront, Regent Park'], ['M6A', 'North York', 'Lawrence Heights, Lawrence Manor'], ['M7A', \"Queen's Park\", \"Queen's Park\"], ['M9A', 'Etobicoke', 'Islington Avenue'], ['M1B', 'Scarborough', 'Rouge, Malvern'], ['M3B', 'North York', 'Don Mills North'], ['M4B', 'East York', 'Woodbine Gardens, Parkview Hill'], ['M5B', 'Downtown Toronto', 'Ryerson, Garden District'], ['M6B', 'North York', 'Glencairn'], ['M9B', 'Etobicoke', 'Cloverdale, Islington, Martin Grove, Princess Gardens, West Deane Park'], ['M1C', 'Scarborough', 'Highland Creek, Rouge Hill, Port Union'], ['M3C', 'North York', 'Flemingdon Park, Don Mills South'], ['M4C', 'East York', 'Woodbine Heights'], ['M5C', 'Downtown Toronto', 'St. James Town'], ['M6C', 'York', 'Humewood-Cedarvale'], ['M9C', 'Etobicoke', 'Bloordale Gardens, Eringate, Markland Wood, Old Burnhamthorpe'], ['M1E', 'Scarborough', 'Guildwood, Morningside, West Hill'], ['M4E', 'East Toronto', 'The Beaches'], ['M5E', 'Downtown Toronto', 'Berczy Park'], ['M6E', 'York', 'Caledonia-Fairbanks'], ['M1G', 'Scarborough', 'Woburn'], ['M4G', 'East York', 'Leaside'], ['M5G', 'Downtown Toronto', 'Central Bay Street'], ['M6G', 'Downtown Toronto', 'Christie'], ['M1H', 'Scarborough', 'Cedarbrae'], ['M2H', 'North York', 'Hillcrest Village'], ['M3H', 'North York', 'Bathurst Manor, Downsview North, Wilson Heights'], ['M4H', 'East York', 'Thorncliffe Park'], ['M5H', 'Downtown Toronto', 'Adelaide, King, Richmond'], ['M6H', 'West Toronto', 'Dovercourt Village, Dufferin'], ['M1J', 'Scarborough', 'Scarborough Village'], ['M2J', 'North York', 'Fairview, Henry Farm, Oriole'], ['M3J', 'North York', 'Northwood Park, York University'], ['M4J', 'East York', 'East Toronto'], ['M5J', 'Downtown Toronto', 'Harbourfront East, Toronto Islands, Union Station'], ['M6J', 'West Toronto', 'Little Portugal, Trinity'], ['M1K', 'Scarborough', 'East Birchmount Park, Ionview, Kennedy Park'], ['M2K', 'North York', 'Bayview Village'], ['M3K', 'North York', 'CFB Toronto, Downsview East'], ['M4K', 'East Toronto', 'The Danforth West, Riverdale'], ['M5K', 'Downtown Toronto', 'Design Exchange, Toronto Dominion Centre'], ['M6K', 'West Toronto', 'Brockton, Exhibition Place, Parkdale Village'], ['M1L', 'Scarborough', 'Clairlea, Golden Mile, Oakridge'], ['M2L', 'North York', 'Silver Hills, York Mills'], ['M3L', 'North York', 'Downsview West'], ['M4L', 'East Toronto', 'The Beaches West, India Bazaar'], ['M5L', 'Downtown Toronto', 'Commerce Court, Victoria Hotel'], ['M6L', 'North York', 'Downsview, North Park, Upwood Park'], ['M9L', 'North York', 'Humber Summit'], ['M1M', 'Scarborough', 'Cliffcrest, Cliffside, Scarborough Village West'], ['M2M', 'North York', 'Newtonbrook, Willowdale'], ['M3M', 'North York', 'Downsview Central'], ['M4M', 'East Toronto', 'Studio District'], ['M5M', 'North York', 'Bedford Park, Lawrence Manor East'], ['M6M', 'York', 'Del Ray, Keelesdale, Mount Dennis, Silverthorn'], ['M9M', 'North York', 'Emery, Humberlea'], ['M1N', 'Scarborough', 'Birch Cliff, Cliffside West'], ['M2N', 'North York', 'Willowdale South'], ['M3N', 'North York', 'Downsview Northwest'], ['M4N', 'Central Toronto', 'Lawrence Park'], ['M5N', 'Central Toronto', 'Roselawn'], ['M6N', 'York', 'The Junction North, Runnymede'], ['M9N', 'York', 'Weston'], ['M1P', 'Scarborough', 'Dorset Park, Scarborough Town Centre, Wexford Heights'], ['M2P', 'North York', 'York Mills West'], ['M4P', 'Central Toronto', 'Davisville North'], ['M5P', 'Central Toronto', 'Forest Hill North, Forest Hill West'], ['M6P', 'West Toronto', 'High Park, The Junction South'], ['M9P', 'Etobicoke', 'Westmount'], ['M1R', 'Scarborough', 'Maryvale, Wexford'], ['M2R', 'North York', 'Willowdale West'], ['M4R', 'Central Toronto', 'North Toronto West'], ['M5R', 'Central Toronto', 'The Annex, North Midtown, Yorkville'], ['M6R', 'West Toronto', 'Parkdale, Roncesvalles'], ['M7R', 'Mississauga', 'Canada Post Gateway Processing Centre'], ['M9R', 'Etobicoke', 'Kingsview Village, Martin Grove Gardens, Richview Gardens, St. Phillips'], ['M1S', 'Scarborough', 'Agincourt'], ['M4S', 'Central Toronto', 'Davisville'], ['M5S', 'Downtown Toronto', 'Harbord, University of Toronto'], ['M6S', 'West Toronto', 'Runnymede, Swansea'], ['M1T', 'Scarborough', \"Clarks Corners, Sullivan, Tam O'Shanter\"], ['M4T', 'Central Toronto', 'Moore Park, Summerhill East'], ['M5T', 'Downtown Toronto', 'Chinatown, Grange Park, Kensington Market'], ['M1V', 'Scarborough', \"Agincourt North, L'Amoreaux East, Milliken, Steeles East\"], ['M4V', 'Central Toronto', 'Deer Park, Forest Hill SE, Rathnelly, South Hill, Summerhill West'], ['M5V', 'Downtown Toronto', 'CN Tower, Bathurst Quay, Island airport, Harbourfront West, King and Spadina, Railway Lands, South Niagara'], ['M8V', 'Etobicoke', 'Humber Bay Shores, Mimico South, New Toronto'], ['M9V', 'Etobicoke', 'Albion Gardens, Beaumond Heights, Humbergate, Jamestown, Mount Olive, Silverstone, South Steeles, Thistletown'], ['M1W', 'Scarborough', \"L'Amoreaux West\"], ['M4W', 'Downtown Toronto', 'Rosedale'], ['M5W', 'Downtown Toronto', 'Stn A PO Boxes 25 The Esplanade'], ['M8W', 'Etobicoke', 'Alderwood, Long Branch'], ['M9W', 'Etobicoke', 'Northwest'], ['M1X', 'Scarborough', 'Upper Rouge'], ['M4X', 'Downtown Toronto', 'Cabbagetown, St. James Town'], ['M5X', 'Downtown Toronto', 'First Canadian Place, Underground city'], ['M8X', 'Etobicoke', 'The Kingsway, Montgomery Road, Old Mill North'], ['M4Y', 'Downtown Toronto', 'Church and Wellesley'], ['M7Y', 'East Toronto', 'Business Reply Mail Processing Centre 969 Eastern'], ['M8Y', 'Etobicoke', \"Humber Bay, King's Mill Park, Kingsway Park South East, Mimico NE, Old Mill South, The Queensway East, Royal York South East, Sunnylea\"], ['M8Z', 'Etobicoke', 'Kingsway Park South West, Mimico NW, The Queensway West, Royal York South West, South of Bloor']]\n"
     ]
    }
   ],
   "source": [
    "i=0\n",
    "\n",
    "while i<len(data)-1:\n",
    "    element=data[i]\n",
    "    while element[0]==data[i+1][0]:\n",
    "        element[2]=element[2]+', '+data[i+1][2]\n",
    "        data.pop(i+1)\n",
    "#        print(i, element, len(data))\n",
    "        if (i==len(data)-1):\n",
    "            break\n",
    "#    print(i, '\\n', element)\n",
    "    i=i+1\n",
    "print(data)"
   ]
  },
  {
   "cell_type": "markdown",
   "metadata": {},
   "source": [
    "Create a dataframe with the columns: PostalCode, Borough, and Neighborhood"
   ]
  },
  {
   "cell_type": "code",
   "execution_count": 11,
   "metadata": {},
   "outputs": [
    {
     "data": {
      "text/html": [
       "<div>\n",
       "<style scoped>\n",
       "    .dataframe tbody tr th:only-of-type {\n",
       "        vertical-align: middle;\n",
       "    }\n",
       "\n",
       "    .dataframe tbody tr th {\n",
       "        vertical-align: top;\n",
       "    }\n",
       "\n",
       "    .dataframe thead th {\n",
       "        text-align: right;\n",
       "    }\n",
       "</style>\n",
       "<table border=\"1\" class=\"dataframe\">\n",
       "  <thead>\n",
       "    <tr style=\"text-align: right;\">\n",
       "      <th></th>\n",
       "      <th>PostalCode</th>\n",
       "      <th>Borough</th>\n",
       "      <th>Neighborhood</th>\n",
       "    </tr>\n",
       "  </thead>\n",
       "  <tbody>\n",
       "    <tr>\n",
       "      <th>0</th>\n",
       "      <td>M3A</td>\n",
       "      <td>North York</td>\n",
       "      <td>Parkwoods</td>\n",
       "    </tr>\n",
       "    <tr>\n",
       "      <th>1</th>\n",
       "      <td>M4A</td>\n",
       "      <td>North York</td>\n",
       "      <td>Victoria Village</td>\n",
       "    </tr>\n",
       "    <tr>\n",
       "      <th>2</th>\n",
       "      <td>M5A</td>\n",
       "      <td>Downtown Toronto</td>\n",
       "      <td>Harbourfront, Regent Park</td>\n",
       "    </tr>\n",
       "    <tr>\n",
       "      <th>3</th>\n",
       "      <td>M6A</td>\n",
       "      <td>North York</td>\n",
       "      <td>Lawrence Heights, Lawrence Manor</td>\n",
       "    </tr>\n",
       "    <tr>\n",
       "      <th>4</th>\n",
       "      <td>M7A</td>\n",
       "      <td>Queen's Park</td>\n",
       "      <td>Queen's Park</td>\n",
       "    </tr>\n",
       "  </tbody>\n",
       "</table>\n",
       "</div>"
      ],
      "text/plain": [
       "  PostalCode           Borough                      Neighborhood\n",
       "0        M3A        North York                         Parkwoods\n",
       "1        M4A        North York                  Victoria Village\n",
       "2        M5A  Downtown Toronto         Harbourfront, Regent Park\n",
       "3        M6A        North York  Lawrence Heights, Lawrence Manor\n",
       "4        M7A      Queen's Park                      Queen's Park"
      ]
     },
     "execution_count": 11,
     "metadata": {},
     "output_type": "execute_result"
    }
   ],
   "source": [
    "df = pd.DataFrame(data,columns=['PostalCode', 'Borough', 'Neighborhood'])\n",
    "df.head()"
   ]
  },
  {
   "cell_type": "markdown",
   "metadata": {},
   "source": [
    "Use the .shape method to print the number of rows of the dataframe"
   ]
  },
  {
   "cell_type": "code",
   "execution_count": 12,
   "metadata": {},
   "outputs": [
    {
     "data": {
      "text/plain": [
       "(103, 3)"
      ]
     },
     "execution_count": 12,
     "metadata": {},
     "output_type": "execute_result"
    }
   ],
   "source": [
    "df.shape"
   ]
  },
  {
   "cell_type": "code",
   "execution_count": 22,
   "metadata": {},
   "outputs": [
    {
     "data": {
      "text/html": [
       "<div>\n",
       "<style scoped>\n",
       "    .dataframe tbody tr th:only-of-type {\n",
       "        vertical-align: middle;\n",
       "    }\n",
       "\n",
       "    .dataframe tbody tr th {\n",
       "        vertical-align: top;\n",
       "    }\n",
       "\n",
       "    .dataframe thead th {\n",
       "        text-align: right;\n",
       "    }\n",
       "</style>\n",
       "<table border=\"1\" class=\"dataframe\">\n",
       "  <thead>\n",
       "    <tr style=\"text-align: right;\">\n",
       "      <th></th>\n",
       "      <th>PostalCode</th>\n",
       "      <th>Latitude</th>\n",
       "      <th>Longitude</th>\n",
       "    </tr>\n",
       "  </thead>\n",
       "  <tbody>\n",
       "    <tr>\n",
       "      <th>0</th>\n",
       "      <td>M1B</td>\n",
       "      <td>43.806686</td>\n",
       "      <td>-79.194353</td>\n",
       "    </tr>\n",
       "    <tr>\n",
       "      <th>1</th>\n",
       "      <td>M1C</td>\n",
       "      <td>43.784535</td>\n",
       "      <td>-79.160497</td>\n",
       "    </tr>\n",
       "    <tr>\n",
       "      <th>2</th>\n",
       "      <td>M1E</td>\n",
       "      <td>43.763573</td>\n",
       "      <td>-79.188711</td>\n",
       "    </tr>\n",
       "    <tr>\n",
       "      <th>3</th>\n",
       "      <td>M1G</td>\n",
       "      <td>43.770992</td>\n",
       "      <td>-79.216917</td>\n",
       "    </tr>\n",
       "    <tr>\n",
       "      <th>4</th>\n",
       "      <td>M1H</td>\n",
       "      <td>43.773136</td>\n",
       "      <td>-79.239476</td>\n",
       "    </tr>\n",
       "  </tbody>\n",
       "</table>\n",
       "</div>"
      ],
      "text/plain": [
       "  PostalCode   Latitude  Longitude\n",
       "0        M1B  43.806686 -79.194353\n",
       "1        M1C  43.784535 -79.160497\n",
       "2        M1E  43.763573 -79.188711\n",
       "3        M1G  43.770992 -79.216917\n",
       "4        M1H  43.773136 -79.239476"
      ]
     },
     "execution_count": 22,
     "metadata": {},
     "output_type": "execute_result"
    }
   ],
   "source": [
    "dfcoordinates=pd.read_csv('https://cocl.us/Geospatial_data')\n",
    "dfcoordinates.columns=['PostalCode','Latitude','Longitude']\n",
    "dfcoordinates.head()"
   ]
  },
  {
   "cell_type": "code",
   "execution_count": 23,
   "metadata": {},
   "outputs": [
    {
     "data": {
      "text/html": [
       "<div>\n",
       "<style scoped>\n",
       "    .dataframe tbody tr th:only-of-type {\n",
       "        vertical-align: middle;\n",
       "    }\n",
       "\n",
       "    .dataframe tbody tr th {\n",
       "        vertical-align: top;\n",
       "    }\n",
       "\n",
       "    .dataframe thead th {\n",
       "        text-align: right;\n",
       "    }\n",
       "</style>\n",
       "<table border=\"1\" class=\"dataframe\">\n",
       "  <thead>\n",
       "    <tr style=\"text-align: right;\">\n",
       "      <th></th>\n",
       "      <th>PostalCode</th>\n",
       "      <th>Borough</th>\n",
       "      <th>Neighborhood</th>\n",
       "      <th>Latitude</th>\n",
       "      <th>Longitude</th>\n",
       "    </tr>\n",
       "  </thead>\n",
       "  <tbody>\n",
       "    <tr>\n",
       "      <th>0</th>\n",
       "      <td>M3A</td>\n",
       "      <td>North York</td>\n",
       "      <td>Parkwoods</td>\n",
       "      <td>43.753259</td>\n",
       "      <td>-79.329656</td>\n",
       "    </tr>\n",
       "    <tr>\n",
       "      <th>1</th>\n",
       "      <td>M4A</td>\n",
       "      <td>North York</td>\n",
       "      <td>Victoria Village</td>\n",
       "      <td>43.725882</td>\n",
       "      <td>-79.315572</td>\n",
       "    </tr>\n",
       "    <tr>\n",
       "      <th>2</th>\n",
       "      <td>M5A</td>\n",
       "      <td>Downtown Toronto</td>\n",
       "      <td>Harbourfront, Regent Park</td>\n",
       "      <td>43.654260</td>\n",
       "      <td>-79.360636</td>\n",
       "    </tr>\n",
       "    <tr>\n",
       "      <th>3</th>\n",
       "      <td>M6A</td>\n",
       "      <td>North York</td>\n",
       "      <td>Lawrence Heights, Lawrence Manor</td>\n",
       "      <td>43.718518</td>\n",
       "      <td>-79.464763</td>\n",
       "    </tr>\n",
       "    <tr>\n",
       "      <th>4</th>\n",
       "      <td>M7A</td>\n",
       "      <td>Queen's Park</td>\n",
       "      <td>Queen's Park</td>\n",
       "      <td>43.662301</td>\n",
       "      <td>-79.389494</td>\n",
       "    </tr>\n",
       "  </tbody>\n",
       "</table>\n",
       "</div>"
      ],
      "text/plain": [
       "  PostalCode           Borough                      Neighborhood   Latitude  \\\n",
       "0        M3A        North York                         Parkwoods  43.753259   \n",
       "1        M4A        North York                  Victoria Village  43.725882   \n",
       "2        M5A  Downtown Toronto         Harbourfront, Regent Park  43.654260   \n",
       "3        M6A        North York  Lawrence Heights, Lawrence Manor  43.718518   \n",
       "4        M7A      Queen's Park                      Queen's Park  43.662301   \n",
       "\n",
       "   Longitude  \n",
       "0 -79.329656  \n",
       "1 -79.315572  \n",
       "2 -79.360636  \n",
       "3 -79.464763  \n",
       "4 -79.389494  "
      ]
     },
     "execution_count": 23,
     "metadata": {},
     "output_type": "execute_result"
    }
   ],
   "source": [
    "result = pd.merge(df, dfcoordinates, on='PostalCode')\n",
    "result.head()"
   ]
  },
  {
   "cell_type": "code",
   "execution_count": 24,
   "metadata": {},
   "outputs": [
    {
     "data": {
      "text/plain": [
       "(103, 5)"
      ]
     },
     "execution_count": 24,
     "metadata": {},
     "output_type": "execute_result"
    }
   ],
   "source": [
    "result.shape"
   ]
  },
  {
   "cell_type": "code",
   "execution_count": null,
   "metadata": {},
   "outputs": [],
   "source": []
  }
 ],
 "metadata": {
  "kernelspec": {
   "display_name": "Python 3.5",
   "language": "python",
   "name": "python3"
  },
  "language_info": {
   "codemirror_mode": {
    "name": "ipython",
    "version": 3
   },
   "file_extension": ".py",
   "mimetype": "text/x-python",
   "name": "python",
   "nbconvert_exporter": "python",
   "pygments_lexer": "ipython3",
   "version": "3.5.5"
  }
 },
 "nbformat": 4,
 "nbformat_minor": 1
}
